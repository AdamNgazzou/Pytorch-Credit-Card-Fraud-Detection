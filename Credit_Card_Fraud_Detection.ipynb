{
  "cells": [
    {
      "cell_type": "code",
      "execution_count": null,
      "metadata": {
        "id": "L57uCWxnsu6h"
      },
      "outputs": [],
      "source": [
        "import torch\n",
        "import torch.nn as nn\n",
        "import torch.nn.functional as F\n",
        "from sklearn.model_selection import train_test_split\n",
        "from sklearn.preprocessing import StandardScaler\n",
        "from torch.optim import Adam\n",
        "import numpy as np\n",
        "import pandas as pd\n",
        "\n",
        "from sklearn.metrics import accuracy_score, precision_score, recall_score, f1_score\n",
        "from torch.utils.data import TensorDataset, DataLoader\n",
        "\n"
      ]
    },
    {
      "cell_type": "code",
      "execution_count": null,
      "metadata": {
        "colab": {
          "base_uri": "https://localhost:8080/",
          "height": 110
        },
        "id": "CpVuyijard-E",
        "outputId": "f4d9b7dc-c44c-46f2-b66c-75a5a16f54f8"
      },
      "outputs": [
        {
          "data": {
            "application/vnd.google.colaboratory.intrinsic+json": {
              "type": "dataframe",
              "variable_name": "df"
            },
            "text/html": [
              "\n",
              "  <div id=\"df-5686337a-03a4-467e-b4b2-a0a7280b2e29\" class=\"colab-df-container\">\n",
              "    <div>\n",
              "<style scoped>\n",
              "    .dataframe tbody tr th:only-of-type {\n",
              "        vertical-align: middle;\n",
              "    }\n",
              "\n",
              "    .dataframe tbody tr th {\n",
              "        vertical-align: top;\n",
              "    }\n",
              "\n",
              "    .dataframe thead th {\n",
              "        text-align: right;\n",
              "    }\n",
              "</style>\n",
              "<table border=\"1\" class=\"dataframe\">\n",
              "  <thead>\n",
              "    <tr style=\"text-align: right;\">\n",
              "      <th></th>\n",
              "      <th>Time</th>\n",
              "      <th>V1</th>\n",
              "      <th>V2</th>\n",
              "      <th>V3</th>\n",
              "      <th>V4</th>\n",
              "      <th>V5</th>\n",
              "      <th>V6</th>\n",
              "      <th>V7</th>\n",
              "      <th>V8</th>\n",
              "      <th>V9</th>\n",
              "      <th>...</th>\n",
              "      <th>V21</th>\n",
              "      <th>V22</th>\n",
              "      <th>V23</th>\n",
              "      <th>V24</th>\n",
              "      <th>V25</th>\n",
              "      <th>V26</th>\n",
              "      <th>V27</th>\n",
              "      <th>V28</th>\n",
              "      <th>Amount</th>\n",
              "      <th>Class</th>\n",
              "    </tr>\n",
              "  </thead>\n",
              "  <tbody>\n",
              "    <tr>\n",
              "      <th>0</th>\n",
              "      <td>0.0</td>\n",
              "      <td>-1.359807</td>\n",
              "      <td>-0.072781</td>\n",
              "      <td>2.536347</td>\n",
              "      <td>1.378155</td>\n",
              "      <td>-0.338321</td>\n",
              "      <td>0.462388</td>\n",
              "      <td>0.239599</td>\n",
              "      <td>0.098698</td>\n",
              "      <td>0.363787</td>\n",
              "      <td>...</td>\n",
              "      <td>-0.018307</td>\n",
              "      <td>0.277838</td>\n",
              "      <td>-0.110474</td>\n",
              "      <td>0.066928</td>\n",
              "      <td>0.128539</td>\n",
              "      <td>-0.189115</td>\n",
              "      <td>0.133558</td>\n",
              "      <td>-0.021053</td>\n",
              "      <td>149.62</td>\n",
              "      <td>0</td>\n",
              "    </tr>\n",
              "  </tbody>\n",
              "</table>\n",
              "<p>1 rows × 31 columns</p>\n",
              "</div>\n",
              "    <div class=\"colab-df-buttons\">\n",
              "\n",
              "  <div class=\"colab-df-container\">\n",
              "    <button class=\"colab-df-convert\" onclick=\"convertToInteractive('df-5686337a-03a4-467e-b4b2-a0a7280b2e29')\"\n",
              "            title=\"Convert this dataframe to an interactive table.\"\n",
              "            style=\"display:none;\">\n",
              "\n",
              "  <svg xmlns=\"http://www.w3.org/2000/svg\" height=\"24px\" viewBox=\"0 -960 960 960\">\n",
              "    <path d=\"M120-120v-720h720v720H120Zm60-500h600v-160H180v160Zm220 220h160v-160H400v160Zm0 220h160v-160H400v160ZM180-400h160v-160H180v160Zm440 0h160v-160H620v160ZM180-180h160v-160H180v160Zm440 0h160v-160H620v160Z\"/>\n",
              "  </svg>\n",
              "    </button>\n",
              "\n",
              "  <style>\n",
              "    .colab-df-container {\n",
              "      display:flex;\n",
              "      gap: 12px;\n",
              "    }\n",
              "\n",
              "    .colab-df-convert {\n",
              "      background-color: #E8F0FE;\n",
              "      border: none;\n",
              "      border-radius: 50%;\n",
              "      cursor: pointer;\n",
              "      display: none;\n",
              "      fill: #1967D2;\n",
              "      height: 32px;\n",
              "      padding: 0 0 0 0;\n",
              "      width: 32px;\n",
              "    }\n",
              "\n",
              "    .colab-df-convert:hover {\n",
              "      background-color: #E2EBFA;\n",
              "      box-shadow: 0px 1px 2px rgba(60, 64, 67, 0.3), 0px 1px 3px 1px rgba(60, 64, 67, 0.15);\n",
              "      fill: #174EA6;\n",
              "    }\n",
              "\n",
              "    .colab-df-buttons div {\n",
              "      margin-bottom: 4px;\n",
              "    }\n",
              "\n",
              "    [theme=dark] .colab-df-convert {\n",
              "      background-color: #3B4455;\n",
              "      fill: #D2E3FC;\n",
              "    }\n",
              "\n",
              "    [theme=dark] .colab-df-convert:hover {\n",
              "      background-color: #434B5C;\n",
              "      box-shadow: 0px 1px 3px 1px rgba(0, 0, 0, 0.15);\n",
              "      filter: drop-shadow(0px 1px 2px rgba(0, 0, 0, 0.3));\n",
              "      fill: #FFFFFF;\n",
              "    }\n",
              "  </style>\n",
              "\n",
              "    <script>\n",
              "      const buttonEl =\n",
              "        document.querySelector('#df-5686337a-03a4-467e-b4b2-a0a7280b2e29 button.colab-df-convert');\n",
              "      buttonEl.style.display =\n",
              "        google.colab.kernel.accessAllowed ? 'block' : 'none';\n",
              "\n",
              "      async function convertToInteractive(key) {\n",
              "        const element = document.querySelector('#df-5686337a-03a4-467e-b4b2-a0a7280b2e29');\n",
              "        const dataTable =\n",
              "          await google.colab.kernel.invokeFunction('convertToInteractive',\n",
              "                                                    [key], {});\n",
              "        if (!dataTable) return;\n",
              "\n",
              "        const docLinkHtml = 'Like what you see? Visit the ' +\n",
              "          '<a target=\"_blank\" href=https://colab.research.google.com/notebooks/data_table.ipynb>data table notebook</a>'\n",
              "          + ' to learn more about interactive tables.';\n",
              "        element.innerHTML = '';\n",
              "        dataTable['output_type'] = 'display_data';\n",
              "        await google.colab.output.renderOutput(dataTable, element);\n",
              "        const docLink = document.createElement('div');\n",
              "        docLink.innerHTML = docLinkHtml;\n",
              "        element.appendChild(docLink);\n",
              "      }\n",
              "    </script>\n",
              "  </div>\n",
              "\n",
              "\n",
              "    </div>\n",
              "  </div>\n"
            ],
            "text/plain": [
              "   Time        V1        V2        V3        V4        V5        V6        V7  \\\n",
              "0   0.0 -1.359807 -0.072781  2.536347  1.378155 -0.338321  0.462388  0.239599   \n",
              "\n",
              "         V8        V9  ...       V21       V22       V23       V24       V25  \\\n",
              "0  0.098698  0.363787  ... -0.018307  0.277838 -0.110474  0.066928  0.128539   \n",
              "\n",
              "        V26       V27       V28  Amount  Class  \n",
              "0 -0.189115  0.133558 -0.021053  149.62      0  \n",
              "\n",
              "[1 rows x 31 columns]"
            ]
          },
          "execution_count": 44,
          "metadata": {},
          "output_type": "execute_result"
        }
      ],
      "source": [
        "df = pd.read_csv('creditcard.csv')\n",
        "df.head(1) # give us a sneek preview of the dataset xD\n"
      ]
    },
    {
      "cell_type": "code",
      "execution_count": null,
      "metadata": {
        "id": "E6fEB-Ebtq5v"
      },
      "outputs": [],
      "source": []
    },
    {
      "cell_type": "code",
      "execution_count": null,
      "metadata": {
        "id": "7CndmKGR1_O5"
      },
      "outputs": [],
      "source": [
        "# Convert X and y to PyTorch tensors\n",
        "X_tensor = torch.tensor(X, dtype=torch.float32)\n",
        "y_tensor = torch.tensor(y, dtype=torch.float32).unsqueeze(1) # Add a dimension for BCEWithLogitsLoss"
      ]
    },
    {
      "cell_type": "code",
      "execution_count": null,
      "metadata": {},
      "outputs": [],
      "source": [
        "# Create device agnostic code\n",
        "device = \"cuda\" if torch.cuda.is_available() else \"cpu\""
      ]
    },
    {
      "cell_type": "code",
      "execution_count": null,
      "metadata": {
        "id": "qslUINWz1_MP"
      },
      "outputs": [],
      "source": [
        "# Handle NaN values in y_tensor\n",
        "nan_mask = torch.isnan(y_tensor)\n",
        "if torch.any(nan_mask):\n",
        "    print(f\"Found {torch.sum(nan_mask).item()} NaN values in y. Removing corresponding rows.\")\n",
        "    # Remove rows with NaN values in y\n",
        "    X_tensor = X_tensor[~nan_mask.squeeze()]\n",
        "    y_tensor = y_tensor[~nan_mask]\n"
      ]
    },
    {
      "cell_type": "code",
      "execution_count": null,
      "metadata": {
        "id": "mdOB3SnJ1_J4"
      },
      "outputs": [],
      "source": [
        "\n",
        "# Split the data into training and testing sets\n",
        "X_train, X_test, y_train, y_test = train_test_split(X_tensor, y_tensor, test_size=0.2, random_state=42, stratify=y_tensor)\n",
        "\n"
      ]
    },
    {
      "cell_type": "code",
      "execution_count": null,
      "metadata": {
        "id": "p8M6aVCr2EMq"
      },
      "outputs": [],
      "source": [
        "# Scale the features\n",
        "scaler = StandardScaler()\n",
        "X_train_scaled = scaler.fit_transform(X_train.numpy())\n",
        "X_test_scaled = scaler.transform(X_test.numpy())\n",
        "\n",
        "X_train_scaled = torch.tensor(X_train_scaled, dtype=torch.float32)\n",
        "X_test_scaled = torch.tensor(X_test_scaled, dtype=torch.float32)\n"
      ]
    },
    {
      "cell_type": "code",
      "execution_count": null,
      "metadata": {
        "id": "ca8blwZR2EKg"
      },
      "outputs": [],
      "source": [
        "# Calculate positive class weight for BCEWithLogitsLoss\n",
        "neg_count = torch.sum(1 - y_train)\n",
        "pos_count = torch.sum(y_train)\n",
        "pos_weight = (neg_count / pos_count).item()  # Make it a scalar float\n"
      ]
    },
    {
      "cell_type": "code",
      "execution_count": null,
      "metadata": {
        "id": "xNBmnwIx2EIR"
      },
      "outputs": [],
      "source": [
        "class FraudDetectionModel(nn.Module):\n",
        "    def __init__(self, input_dim):\n",
        "        super(FraudDetectionModel, self).__init__()\n",
        "\n",
        "        self.fc1 = nn.Linear(input_dim, 64)\n",
        "        self.dropout1 = nn.Dropout(0.3)\n",
        "\n",
        "        self.fc2 = nn.Linear(64, 32)\n",
        "        self.dropout2 = nn.Dropout(0.3)\n",
        "\n",
        "        self.output = nn.Linear(32, 1)  # Binary classification\n",
        "\n",
        "    def forward(self, x):\n",
        "        x = F.relu(self.fc1(x))\n",
        "        x = self.dropout1(x)\n",
        "\n",
        "        x = F.relu(self.fc2(x))\n",
        "        x = self.dropout2(x)\n",
        "\n",
        "        # Removed sigmoid here to use BCEWithLogitsLoss\n",
        "        return self.output(x)\n",
        "\n",
        "    def train_model(self, train_loader, loss_fn, optimizer, num_epochs):\n",
        "        self.train() # Set the model to training mode\n",
        "\n",
        "        for epoch in range(num_epochs):\n",
        "            total_loss = 0\n",
        "            for inputs, labels in train_loader:\n",
        "                inputs, labels = inputs.to(device), labels.to(device) # Move data to device\n",
        "                # Forward pass\n",
        "                outputs = self(inputs).squeeze(1)  # Shape [B]\n",
        "                labels = labels.squeeze(1)         # Shape [B]\n",
        "\n",
        "                # Calculate loss\n",
        "                loss = loss_fn(outputs, labels)\n",
        "\n",
        "                # Backward pass and optimization\n",
        "                optimizer.zero_grad()\n",
        "                loss.backward()\n",
        "                optimizer.step()\n",
        "\n",
        "                total_loss += loss.item()\n",
        "\n",
        "            print(f'Epoch [{epoch+1}/{num_epochs}], Loss: {total_loss/len(train_loader):.4f}')\n",
        "\n",
        "        print(\"Training complete.\")\n",
        "\n",
        "    def evaluate_model(self, test_loader, threshold):\n",
        "        self.eval()  # Set the model to evaluation mode\n",
        "        all_predicted = []\n",
        "        all_true = []\n",
        "\n",
        "        with torch.inference_mode():  # Disable gradient calculations\n",
        "            for inputs, labels in test_loader:\n",
        "                outputs = self(inputs)\n",
        "                probabilities = torch.sigmoid(outputs)  # Apply sigmoid to get probabilities\n",
        "                predicted_classes = (probabilities > threshold).long()  # Convert probabilities to predicted class labels\n",
        "\n",
        "                all_predicted.append(predicted_classes)\n",
        "                all_true.append(labels.long()) # Ensure labels are long type for consistency\n",
        "\n",
        "        # Concatenate all predicted and true labels\n",
        "        all_predicted = torch.cat(all_predicted).cpu().numpy() # Move to CPU before converting to numpy\n",
        "        all_true = torch.cat(all_true).cpu().numpy() # Move to CPU before converting to numpy\n",
        "\n",
        "        # Calculate and print evaluation metrics\n",
        "        accuracy = accuracy_score(all_true, all_predicted)\n",
        "        precision = precision_score(all_true, all_predicted)\n",
        "        recall = recall_score(all_true, all_predicted)\n",
        "        f1 = f1_score(all_true, all_predicted)\n",
        "\n",
        "        print(f\"Accuracy: {accuracy:.4f}\")\n",
        "        print(f\"Precision: {precision:.4f}\")\n",
        "        print(f\"Recall: {recall:.4f}\")\n",
        "        print(f\"F1-score: {f1:.4f}\")\n",
        "\n",
        "        return accuracy, precision, recall, f1"
      ]
    },
    {
      "cell_type": "code",
      "execution_count": null,
      "metadata": {
        "colab": {
          "base_uri": "https://localhost:8080/"
        },
        "id": "A7TKJ04Tt9zz",
        "outputId": "ebda359c-86f7-42b1-ced6-6c05d51fcc01"
      },
      "outputs": [
        {
          "name": "stdout",
          "output_type": "stream",
          "text": [
            "Positive class weight: 577.2868041992188\n"
          ]
        }
      ],
      "source": [
        "# Instantiate the model\n",
        "input_dim = X_train_scaled.shape[1]\n",
        "model = FraudDetectionModel(input_dim).to(device)\n",
        "\n",
        "# Define the loss function with positive class weight and optimizer\n",
        "loss_fn = nn.BCEWithLogitsLoss(pos_weight=torch.tensor(pos_weight))\n",
        "optimizer = Adam(model.parameters(), lr=0.001)\n",
        "\n",
        "print(f\"Positive class weight: {pos_weight}\")"
      ]
    },
    {
      "cell_type": "markdown",
      "metadata": {
        "id": "f2302411"
      },
      "source": [
        "## Create data loaders\n",
        "\n"
      ]
    },
    {
      "cell_type": "code",
      "execution_count": null,
      "metadata": {
        "colab": {
          "base_uri": "https://localhost:8080/"
        },
        "id": "a09bf9e4",
        "outputId": "e34a7e77-46f2-45ec-b591-4210579066f5"
      },
      "outputs": [
        {
          "name": "stdout",
          "output_type": "stream",
          "text": [
            "DataLoaders created successfully.\n"
          ]
        }
      ],
      "source": [
        "\n",
        "train_dataset = TensorDataset(X_train_scaled, y_train)\n",
        "test_dataset = TensorDataset(X_test_scaled, y_test)\n",
        "\n",
        "train_loader = DataLoader(train_dataset, batch_size=64, shuffle=True)\n",
        "test_loader = DataLoader(test_dataset, batch_size=64, shuffle=False)\n",
        "\n",
        "print(\"DataLoaders created successfully.\")"
      ]
    },
    {
      "cell_type": "markdown",
      "metadata": {
        "id": "efcdcc07"
      },
      "source": [
        "## Implement training loop\n",
        "\n"
      ]
    },
    {
      "cell_type": "code",
      "execution_count": null,
      "metadata": {
        "colab": {
          "base_uri": "https://localhost:8080/"
        },
        "collapsed": true,
        "id": "xz7sGO1FvH2Z",
        "outputId": "a1e98f65-daa9-462d-864f-6ae111a194ea"
      },
      "outputs": [
        {
          "name": "stdout",
          "output_type": "stream",
          "text": [
            "Epoch [1/10], Loss: 0.5105\n",
            "Epoch [2/10], Loss: 0.2953\n",
            "Epoch [3/10], Loss: 0.2948\n",
            "Epoch [4/10], Loss: 0.2702\n",
            "Epoch [5/10], Loss: 0.2769\n",
            "Epoch [6/10], Loss: 0.2325\n",
            "Epoch [7/10], Loss: 0.2195\n",
            "Epoch [8/10], Loss: 0.2242\n",
            "Epoch [9/10], Loss: 0.1903\n",
            "Epoch [10/10], Loss: 0.2363\n",
            "Training complete.\n"
          ]
        }
      ],
      "source": [
        "num_epochs = 10\n",
        "model.train_model(train_loader, loss_fn, optimizer, num_epochs)"
      ]
    },
    {
      "cell_type": "markdown",
      "metadata": {
        "id": "54dcb490"
      },
      "source": [
        "## Evaluate the model\n"
      ]
    },
    {
      "cell_type": "markdown",
      "metadata": {
        "id": "7c6595f1"
      },
      "source": [
        "Evaluate the trained model on the test set by calculating accuracy, precision, recall, and F1-score.\n",
        "\n"
      ]
    },
    {
      "cell_type": "code",
      "execution_count": null,
      "metadata": {
        "colab": {
          "base_uri": "https://localhost:8080/"
        },
        "id": "15e810e0",
        "outputId": "496602af-b07d-4c0c-817d-d9ad942a62e8"
      },
      "outputs": [
        {
          "name": "stdout",
          "output_type": "stream",
          "text": [
            "Accuracy: 0.9994\n",
            "Precision: 0.8144\n",
            "Recall: 0.8061\n",
            "F1-score: 0.8103\n"
          ]
        }
      ],
      "source": [
        "threshold = 0.99828\n",
        "accuracy, precision, recall, f1 = model.evaluate_model(test_loader, threshold)"
      ]
    }
  ],
  "metadata": {
    "colab": {
      "provenance": []
    },
    "kernelspec": {
      "display_name": "Python 3",
      "name": "python3"
    },
    "language_info": {
      "name": "python"
    }
  },
  "nbformat": 4,
  "nbformat_minor": 0
}
